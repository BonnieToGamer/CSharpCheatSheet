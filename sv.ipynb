{
 "cells": [
  {
   "cell_type": "markdown",
   "metadata": {},
   "source": [
    "# C# Cheat sheet"
   ]
  },
  {
   "cell_type": "code",
   "execution_count": null,
   "metadata": {
    "dotnet_interactive": {
     "language": "csharp"
    }
   },
   "outputs": [],
   "source": [
    "Console.WriteLine(\"Hello, World!\");"
   ]
  },
  {
   "cell_type": "markdown",
   "metadata": {},
   "source": [
    "Detta är det första man brukar skriva i ett nytt programmering språk. Men vad gör det egentligen? Och hur använder man språket för att bygga spel? I denna text tänker jag försöka förklara det så tydligt som jag kan."
   ]
  },
  {
   "cell_type": "markdown",
   "metadata": {},
   "source": [
    "Vi kan börja med att kolla vad koden gör...<br>\n",
    "__*Console*__ är en standard klass i C# som är för tillför input, output och errors till din konsol.<br>\n",
    "__*WriteLine*__ är en funktion av klassen __Console__. Denna funktion tar in flera parametrar som skrivs till din konsol, I mitt exempel *Hello, World!*. I slutet av koden finns ett semi-colon. I C# måste du ha ett semi-colon efter en radsavlutning.<br>\n",
    " Senare i denna text kommer jag att gå över vad klasser och funktioner är. <br><br>\n",
    "\n",
    "I en riktig C# application så kan du inte bara skriva *Console.WriteLine();* för att man kommer att få en error. Detta är för att C# är ett object-oriented language eller OOP. Ett OOP språk betyder att allt är object, ett object kan vara både data och beteende. Så antingen t.ex en 1:a eller en funktion. Program är gjorda genom att använda objekt som påverkar ett annat objekt.<br>\n",
    "Som ett exempel för at göra det lättare att förstå så har vi en person. Logiskt vis så skulle du tro att personen har ett namn. Detta hade varit en egenskap av personen. Du kan också förvänta dig att en person kan göra något, så som att gå eller köra bil. Detta hade kunnat vara en metod av personen. <br><br>\n",
    "\n",
    "Vi kan börja med att skriva vår första riktiga app i C#. Öppna Visual Studio och tryck på *Create a new project*, välj sedan *Console Application C#* och tryck *next*. Döp projektet till *Hello World* och välj vad du vill lägga ditt projekt. Du behöver inte göra en ny mapp för projektet för att Visual Studio gör det automatiskt om du inte har tryckt i *Place solution in the same Directory*. Tryck *next* och sedan *create* för att vi inte behöver oroa oss om Frameworks än. Nu kommer boiler-plate kod komma fram. Du behöver *inte* ändra på något. Du behöver bara trycka på F5 eller Debug > Start Debugging. Om du av någon anledning inte får upp boiler plate kod så kan du klistra in den här koden:"
   ]
  },
  {
   "cell_type": "code",
   "execution_count": null,
   "metadata": {
    "dotnet_interactive": {
     "language": "csharp"
    }
   },
   "outputs": [],
   "source": [
    "using System;\n",
    "\n",
    "namespace Hello_World\n",
    "{\n",
    "    class Program\n",
    "    {\n",
    "        static void Main(string[] args)\n",
    "        {\n",
    "            Console.WriteLine(\"Hello World!\");\n",
    "        }\n",
    "    }\n",
    "}\n"
   ]
  },
  {
   "cell_type": "markdown",
   "metadata": {},
   "source": [
    "Förväntat resultat: Hello World!<br>\n",
    "\n",
    "## Förklaring av kod\n",
    "----\n",
    "<code>using System;</code>: *using* är ett C# keyword för att hämta in ett namespace (förklaring under), I detta fallet så är det *System*. *System* är ett av många default namespaces för C#.<br>\n",
    "<code>namespace Hello_World {}</code>: Ett namespace är ett sätt att organisera dina funktioner för att det ska bli lättare för dig att skriva kod och för andra att läsa din kod. Tänk dig att du har en massa projekt att skriva om i skolan. I början har du ingen organisation och lägger papper huller om buller. Men när du har skrivit väldigt mycket på flera projekt så blir det svårt att hitta äldre papper. Då organiserar du dom i mappar (namespaces) för att lättare kunna jobba på dina olika projekt. Efter *namespace* keywordet så skriver du namnet på din mapp (namespace). Varje gång du deklarerar ett namespace/klass eller saker som kräver flera rader kod så ska du lägga till {} där all kod ligger mellan det två curly braces<br>\n",
    "<code>class Program{}</code>: En klass är som en blueprint för ditt objekt. Om vi tänker tillbaks till personen igen, Så har personen ett namn och lite funktioner som att gå och köra bil. Detta ligger då i klassen Person. Det som kommer efter *class* keywordet är namnet på klassen I detta fallet så är det *Program*. Program är en speciell klass eftersom det är där C# börjar att läsa din kod. Specifikt så letar den efter *Main* funktionen.<br>\n",
    "\n"
   ]
  },
  {
   "cell_type": "markdown",
   "metadata": {},
   "source": [
    "<code>static void Main(string[] args) {}</code>: Här är det mycket att förklara. Vi börjar med *static*. Static är ett keyword i C# som säger att funktionen kan användas även om objektet inte finns. Som t.ex *Console.WriteLine*. I det exemplet så är WriteLine en statisk funktion eftersom du inte behöver göra ett *Console* objekt.<br>\n",
    "Om vi tar nästa keyword *void*. *void* beskriver vad funktionen returnerar, en funktion kan returnera vilket objekt som helst. Till och med egen gjorda klasser. Men du kan inte returnera funktioner eller namespaces.<br> \n",
    "*Main()*. Main är namnet på funktionen och också den funktionen C# letar efter när den kompilerar din kod. Namnet kan vara vad som helst så länge som den inte börjar med en konstig bokstav, nummer eller ett reserved keyword som t.ex *static* och *void*.<br>"
   ]
  },
  {
   "cell_type": "code",
   "execution_count": null,
   "metadata": {
    "dotnet_interactive": {
     "language": "csharp"
    }
   },
   "outputs": [],
   "source": [
    "class Test {\n",
    " public static void a() {\n",
    "  Console.WriteLine(\"I'm Static!\");\n",
    " }\n",
    "\n",
    " public void b() {\n",
    "  Console.WriteLine(\"I'm not Static!\");\n",
    " }\n",
    "}\n",
    "\n",
    "Test.a(); // Static behöver imgen klass definition\n",
    "\n",
    "Test t = new Test(); // icke static funktion kräver klass definition\n",
    "t.b();"
   ]
  },
  {
   "cell_type": "code",
   "execution_count": null,
   "metadata": {
    "dotnet_interactive": {
     "language": "csharp"
    }
   },
   "outputs": [],
   "source": [
    "class Test {\n",
    " static void a() {\n",
    "  return \"a\"; // error: void keywordet gör så att man inte kan returna något\n",
    " }\n",
    "\n",
    " static string b() {\n",
    "  return \"b\"; // Ingen error efter som vi säger att b returnar en sträng\n",
    " }\n",
    "\n",
    " static string c() { // error: c returnerar inget och vi har sagt till den att returna en sträng\n",
    "\n",
    " }\n",
    "\n",
    " static string d() {\n",
    "  return 123; // error: 123 är en integer och inte en sträng.\n",
    " }\n",
    "}"
   ]
  },
  {
   "cell_type": "markdown",
   "metadata": {},
   "source": [
    "C# är ett strongly typed language, det betyder att du behöver specificera vilken typ ett objekt är. *Det är __inte__ rekommenderat men det finns ett 'var' keyword, där du inte specificerar typ*. Så när du gör dina argument så måste du ge dom en typ. I detta program så är det en sträng. En sträng är bara karaktärer inom \"\"."
   ]
  },
  {
   "cell_type": "code",
   "execution_count": null,
   "metadata": {
    "dotnet_interactive": {
     "language": "csharp"
    }
   },
   "outputs": [],
   "source": [
    "string test = \"I'm a String!\";"
   ]
  },
  {
   "cell_type": "markdown",
   "metadata": {},
   "source": [
    "Men vad betyder []? Det betyder att det är en *Array*. En *Array* är ett objekt med flera objekt av samma typ i sig. Du kan hämta ett objekt från arrayn med Indexer operatorn []. Du ger den bara ett nummer så hämtar den objektet från den positionen. En array börjar alltid från 0 i C# och många andra språk."
   ]
  },
  {
   "cell_type": "code",
   "execution_count": null,
   "metadata": {
    "dotnet_interactive": {
     "language": "csharp"
    }
   },
   "outputs": [],
   "source": [
    "string[] test = new string[10]; // Gör en ny sträng med 10 strängar i sig.\n",
    "test[0] = \"Hello I'm the first array item\"; // Sätt första objektet till en sträng\n",
    "\n",
    "Console.WriteLine(test[0]); // Skriv ut objekt 0"
   ]
  },
  {
   "cell_type": "markdown",
   "metadata": {},
   "source": [
    "Efter allt det så kommer vi till en *Console.WriteLine()*. Som tidigare sagt så skriver den ut en sträng till konsolen."
   ]
  },
  {
   "cell_type": "code",
   "execution_count": null,
   "metadata": {
    "dotnet_interactive": {
     "language": "csharp"
    }
   },
   "outputs": [],
   "source": [
    "Console.WriteLine(\"I'm writing to \" + \"the \" + \"console!\");"
   ]
  },
  {
   "cell_type": "markdown",
   "metadata": {},
   "source": [
    "I varje C# program så måste du har en Main(string[] args) function efter som att C# börjar att köra din kod därifrån. Men varför string[] args argumentet? Jo, om du skulle köra ditt program från en terminal så skulle du skriva:"
   ]
  },
  {
   "cell_type": "code",
   "execution_count": null,
   "metadata": {
    "dotnet_interactive": {
     "language": "pwsh"
    }
   },
   "outputs": [],
   "source": [
    "./Hello_World.exe"
   ]
  },
  {
   "cell_type": "markdown",
   "metadata": {},
   "source": [
    "Och när du vill lägga till argument som i till exempel cd kommandot så lägger du bara på den path du vill till. Samma sak gäller i vårt program. Om vi skulle göra denna ändringen i vårt program:"
   ]
  },
  {
   "cell_type": "code",
   "execution_count": null,
   "metadata": {
    "dotnet_interactive": {
     "language": "csharp"
    }
   },
   "outputs": [],
   "source": [
    "// Console.WriteLine(\"Hello World!\");\n",
    "Console.WriteLine(args[0]);"
   ]
  },
  {
   "cell_type": "markdown",
   "metadata": {},
   "source": [
    "Och köra detta kommandot:"
   ]
  },
  {
   "cell_type": "code",
   "execution_count": null,
   "metadata": {
    "dotnet_interactive": {
     "language": "pwsh"
    }
   },
   "outputs": [],
   "source": [
    "./Hello_World.exe \"Hello there\""
   ]
  },
  {
   "cell_type": "markdown",
   "metadata": {},
   "source": [
    "Så skulle vi få tillbaka: Hello there"
   ]
  }
 ],
 "metadata": {
  "kernelspec": {
   "display_name": ".NET (C#)",
   "language": "C#",
   "name": ".net-csharp"
  },
  "language_info": {
   "name": "C#"
  }
 },
 "nbformat": 4,
 "nbformat_minor": 2
}
